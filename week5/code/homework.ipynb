{
 "cells": [
  {
   "cell_type": "code",
   "execution_count": 41,
   "id": "26b29063",
   "metadata": {},
   "outputs": [],
   "source": [
    "import pyspark\n",
    "from pyspark.sql import SparkSession\n",
    "from pyspark.sql import functions as F\n",
    "from pyspark.sql import types"
   ]
  },
  {
   "cell_type": "code",
   "execution_count": 2,
   "id": "12675f26",
   "metadata": {},
   "outputs": [
    {
     "name": "stderr",
     "output_type": "stream",
     "text": [
      "22/02/27 15:22:07 WARN Utils: Your hostname, localhost.localdomain resolves to a loopback address: 127.0.0.1; using 10.0.2.20 instead (on interface enp0s3)\n",
      "22/02/27 15:22:07 WARN Utils: Set SPARK_LOCAL_IP if you need to bind to another address\n",
      "22/02/27 15:22:08 WARN NativeCodeLoader: Unable to load native-hadoop library for your platform... using builtin-java classes where applicable\n",
      "Using Spark's default log4j profile: org/apache/spark/log4j-defaults.properties\n",
      "Setting default log level to \"WARN\".\n",
      "To adjust logging level use sc.setLogLevel(newLevel). For SparkR, use setLogLevel(newLevel).\n",
      "22/02/27 15:22:11 WARN Utils: Service 'SparkUI' could not bind on port 4040. Attempting port 4041.\n"
     ]
    }
   ],
   "source": [
    "spark = SparkSession.builder \\\n",
    "    .master(\"local[*]\") \\\n",
    "    .appName('test') \\\n",
    "    .getOrCreate()"
   ]
  },
  {
   "cell_type": "code",
   "execution_count": 5,
   "id": "557532a2",
   "metadata": {},
   "outputs": [
    {
     "name": "stderr",
     "output_type": "stream",
     "text": [
      "                                                                                \r"
     ]
    }
   ],
   "source": [
    "df = spark.read \\\n",
    ".option(\"header\",\"true\") \\\n",
    ".csv(\"../data/raw/fhvhv_tripdata_2021-02.csv\")"
   ]
  },
  {
   "cell_type": "code",
   "execution_count": 10,
   "id": "8e81ed94",
   "metadata": {},
   "outputs": [
    {
     "name": "stdout",
     "output_type": "stream",
     "text": [
      "root\n",
      " |-- hvfhs_license_num: string (nullable = true)\n",
      " |-- dispatching_base_num: string (nullable = true)\n",
      " |-- pickup_datetime: string (nullable = true)\n",
      " |-- dropoff_datetime: string (nullable = true)\n",
      " |-- PULocationID: string (nullable = true)\n",
      " |-- DOLocationID: string (nullable = true)\n",
      " |-- SR_Flag: string (nullable = true)\n",
      "\n"
     ]
    }
   ],
   "source": [
    "df.printSchema()"
   ]
  },
  {
   "cell_type": "code",
   "execution_count": 11,
   "id": "2ef317ee",
   "metadata": {},
   "outputs": [
    {
     "data": {
      "text/plain": [
       "StructType(List(StructField(hvfhs_license_num,StringType,true),StructField(dispatching_base_num,StringType,true),StructField(pickup_datetime,StringType,true),StructField(dropoff_datetime,StringType,true),StructField(PULocationID,StringType,true),StructField(DOLocationID,StringType,true),StructField(SR_Flag,StringType,true)))"
      ]
     },
     "execution_count": 11,
     "metadata": {},
     "output_type": "execute_result"
    }
   ],
   "source": [
    "df.schema"
   ]
  },
  {
   "cell_type": "code",
   "execution_count": 22,
   "id": "0ce0b174",
   "metadata": {},
   "outputs": [],
   "source": [
    "schema = types.StructType([\n",
    "\ttypes.StructField('hvfhs_license_num',types.StringType(),True),\n",
    "\ttypes.StructField('dispatching_base_num',types.StringType(),True),\n",
    "\ttypes.StructField('pickup_datetime',types.TimestampType(),True),\n",
    "\ttypes.StructField('dropoff_datetime',types.TimestampType(),True),\n",
    "\ttypes.StructField('PULocationID',types.IntegerType(),True),\n",
    "\ttypes.StructField('DOLocationID',types.IntegerType(),True),\n",
    "\ttypes.StructField('SR_Flag',types.StringType(),True)\n",
    "])"
   ]
  },
  {
   "cell_type": "code",
   "execution_count": 23,
   "id": "0eec4e1b",
   "metadata": {},
   "outputs": [],
   "source": [
    "df = spark.read \\\n",
    ".option(\"header\",\"true\") \\\n",
    ".schema(schema) \\\n",
    ".csv(\"../data/raw/fhvhv_tripdata_2021-02.csv\")"
   ]
  },
  {
   "cell_type": "code",
   "execution_count": 28,
   "id": "57768970",
   "metadata": {},
   "outputs": [],
   "source": [
    "df = df.repartition(24)"
   ]
  },
  {
   "cell_type": "code",
   "execution_count": 29,
   "id": "bbcf91ed",
   "metadata": {},
   "outputs": [
    {
     "name": "stderr",
     "output_type": "stream",
     "text": [
      "                                                                                \r"
     ]
    }
   ],
   "source": [
    "df.write.parquet(\"../data/pq/\",mode='overwrite')"
   ]
  },
  {
   "cell_type": "code",
   "execution_count": 55,
   "id": "4d6ce390",
   "metadata": {},
   "outputs": [],
   "source": [
    "df = spark.read.parquet(\"../data/pq/\")"
   ]
  },
  {
   "cell_type": "code",
   "execution_count": 86,
   "id": "ca808221",
   "metadata": {},
   "outputs": [
    {
     "name": "stdout",
     "output_type": "stream",
     "text": [
      "root\n",
      " |-- hvfhs_license_num: string (nullable = true)\n",
      " |-- dispatching_base_num: string (nullable = true)\n",
      " |-- pickup_datetime: timestamp (nullable = true)\n",
      " |-- dropoff_datetime: timestamp (nullable = true)\n",
      " |-- PULocationID: integer (nullable = true)\n",
      " |-- DOLocationID: integer (nullable = true)\n",
      " |-- SR_Flag: string (nullable = true)\n",
      "\n"
     ]
    }
   ],
   "source": [
    "df.printSchema()"
   ]
  },
  {
   "cell_type": "code",
   "execution_count": 85,
   "id": "64aff2f0",
   "metadata": {},
   "outputs": [
    {
     "data": {
      "text/plain": [
       "11613942"
      ]
     },
     "execution_count": 85,
     "metadata": {},
     "output_type": "execute_result"
    }
   ],
   "source": [
    "df.count()"
   ]
  },
  {
   "cell_type": "code",
   "execution_count": 32,
   "id": "1af0b0b4",
   "metadata": {},
   "outputs": [],
   "source": [
    "df.registerTempTable(\"hvfhw_2021_02\")"
   ]
  },
  {
   "cell_type": "code",
   "execution_count": 34,
   "id": "39345a01",
   "metadata": {},
   "outputs": [
    {
     "name": "stderr",
     "output_type": "stream",
     "text": [
      "[Stage 8:=================================================>         (5 + 1) / 6]\r"
     ]
    },
    {
     "name": "stdout",
     "output_type": "stream",
     "text": [
      "+-----------------+--------------------+-------------------+-------------------+------------+------------+-------+\n",
      "|hvfhs_license_num|dispatching_base_num|    pickup_datetime|   dropoff_datetime|PULocationID|DOLocationID|SR_Flag|\n",
      "+-----------------+--------------------+-------------------+-------------------+------------+------------+-------+\n",
      "|           HV0003|              B02617|2021-02-02 23:37:38|2021-02-02 23:53:18|         152|         242|   null|\n",
      "|           HV0003|              B02887|2021-02-02 09:56:51|2021-02-02 10:20:33|          28|           7|   null|\n",
      "|           HV0003|              B02869|2021-02-05 12:58:01|2021-02-05 13:08:53|          47|         147|   null|\n",
      "|           HV0003|              B02872|2021-02-05 07:32:17|2021-02-05 07:43:59|          50|         244|   null|\n",
      "|           HV0003|              B02867|2021-02-02 02:27:45|2021-02-02 02:39:29|         188|          61|   null|\n",
      "|           HV0003|              B02869|2021-02-03 09:09:52|2021-02-03 10:04:17|          28|          65|   null|\n",
      "|           HV0003|              B02682|2021-02-04 08:09:27|2021-02-04 08:31:12|          92|          32|   null|\n",
      "|           HV0003|              B02877|2021-02-03 08:45:53|2021-02-03 08:55:46|         123|         123|   null|\n",
      "|           HV0003|              B02884|2021-02-05 00:32:23|2021-02-05 00:42:20|         195|         148|   null|\n",
      "|           HV0003|              B02875|2021-02-06 09:42:31|2021-02-06 10:14:16|         227|          68|   null|\n",
      "+-----------------+--------------------+-------------------+-------------------+------------+------------+-------+\n",
      "only showing top 10 rows\n",
      "\n"
     ]
    },
    {
     "name": "stderr",
     "output_type": "stream",
     "text": [
      "\r",
      "                                                                                \r"
     ]
    }
   ],
   "source": [
    "df.show(10)"
   ]
  },
  {
   "cell_type": "code",
   "execution_count": 40,
   "id": "ca85db9b",
   "metadata": {},
   "outputs": [
    {
     "name": "stderr",
     "output_type": "stream",
     "text": [
      "[Stage 10:================================================>         (5 + 1) / 6]\r"
     ]
    },
    {
     "name": "stdout",
     "output_type": "stream",
     "text": [
      "+--------+\n",
      "|count(1)|\n",
      "+--------+\n",
      "|  367170|\n",
      "+--------+\n",
      "\n"
     ]
    },
    {
     "name": "stderr",
     "output_type": "stream",
     "text": [
      "\r",
      "                                                                                \r"
     ]
    }
   ],
   "source": [
    "spark.sql(\"\"\"\n",
    "select count(1) from hvfhw_2021_02\n",
    "where pickup_datetime >= '2021-02-15 00:00:00' and pickup_datetime <= '2021-02-15 23:59:59'\n",
    "\"\"\").show()"
   ]
  },
  {
   "cell_type": "code",
   "execution_count": 58,
   "id": "33c59e59",
   "metadata": {},
   "outputs": [],
   "source": [
    "timeformat=\"yyyy-MM-dd'T'HH:mm:ss.SSS\""
   ]
  },
  {
   "cell_type": "code",
   "execution_count": 79,
   "id": "f69c4e72",
   "metadata": {},
   "outputs": [
    {
     "name": "stderr",
     "output_type": "stream",
     "text": [
      "\r",
      "[Stage 27:>                                                         (0 + 4) / 4]\r"
     ]
    },
    {
     "name": "stdout",
     "output_type": "stream",
     "text": [
      "+-----------+------------+--------+\n",
      "|pickup_date|dropoff_date|duration|\n",
      "+-----------+------------+--------+\n",
      "| 2021-02-11|  2021-02-12|   75540|\n",
      "| 2021-02-17|  2021-02-18|   57221|\n",
      "| 2021-02-20|  2021-02-21|   44039|\n",
      "| 2021-02-03|  2021-02-04|   40653|\n",
      "| 2021-02-19|  2021-02-20|   37577|\n",
      "| 2021-02-25|  2021-02-26|   35010|\n",
      "| 2021-02-20|  2021-02-20|   34806|\n",
      "| 2021-02-18|  2021-02-19|   34612|\n",
      "| 2021-02-18|  2021-02-18|   34555|\n",
      "| 2021-02-10|  2021-02-11|   34169|\n",
      "| 2021-02-10|  2021-02-10|   32476|\n",
      "| 2021-02-25|  2021-02-25|   32439|\n",
      "| 2021-02-21|  2021-02-22|   32223|\n",
      "| 2021-02-09|  2021-02-10|   32087|\n",
      "| 2021-02-06|  2021-02-06|   31447|\n",
      "| 2021-02-02|  2021-02-02|   30913|\n",
      "| 2021-02-10|  2021-02-10|   30856|\n",
      "| 2021-02-09|  2021-02-09|   30732|\n",
      "| 2021-02-21|  2021-02-22|   30660|\n",
      "| 2021-02-05|  2021-02-06|   30511|\n",
      "+-----------+------------+--------+\n",
      "only showing top 20 rows\n",
      "\n"
     ]
    },
    {
     "name": "stderr",
     "output_type": "stream",
     "text": [
      "\r",
      "                                                                                \r"
     ]
    }
   ],
   "source": [
    "df \\\n",
    " .withColumn('pickup_date',F.to_date(df.pickup_datetime)) \\\n",
    " .withColumn('dropoff_date',F.to_date(df.dropoff_datetime)) \\\n",
    " .withColumn('duration',(F.unix_timestamp(df.dropoff_datetime, format=timeformat) - F.unix_timestamp(df.pickup_datetime, format=timeformat))) \\\n",
    " .select('pickup_date','dropoff_date','duration') \\\n",
    " .orderBy('duration',ascending=False) \\\n",
    " .show()"
   ]
  },
  {
   "cell_type": "code",
   "execution_count": 83,
   "id": "d65e2704",
   "metadata": {},
   "outputs": [],
   "source": [
    "df_most_frequent = spark.sql(\"\"\"\n",
    "select dispatching_base_num,\n",
    "     COUNT(dispatching_base_num) AS TOTAL\n",
    "     FROM hvfhw_2021_02\n",
    "     GROUP BY dispatching_base_num\n",
    "     ORDER by COUNT(dispatching_base_num) desc\n",
    "\"\"\")"
   ]
  },
  {
   "cell_type": "code",
   "execution_count": 84,
   "id": "e8890f6a",
   "metadata": {},
   "outputs": [
    {
     "name": "stderr",
     "output_type": "stream",
     "text": [
      "[Stage 45:===================================>                  (130 + 4) / 200]\r"
     ]
    },
    {
     "name": "stdout",
     "output_type": "stream",
     "text": [
      "+--------------------+-------+\n",
      "|dispatching_base_num|  TOTAL|\n",
      "+--------------------+-------+\n",
      "|              B02510|3233664|\n",
      "|              B02764| 965568|\n",
      "|              B02872| 882689|\n",
      "|              B02875| 685390|\n",
      "|              B02765| 559768|\n",
      "|              B02869| 429720|\n",
      "|              B02887| 322331|\n",
      "|              B02871| 312364|\n",
      "|              B02864| 311603|\n",
      "|              B02866| 311089|\n",
      "|              B02878| 305185|\n",
      "|              B02682| 303255|\n",
      "|              B02617| 274510|\n",
      "|              B02883| 251617|\n",
      "|              B02884| 244963|\n",
      "|              B02882| 232173|\n",
      "|              B02876| 215693|\n",
      "|              B02879| 210137|\n",
      "|              B02867| 200530|\n",
      "|              B02877| 198938|\n",
      "+--------------------+-------+\n",
      "only showing top 20 rows\n",
      "\n"
     ]
    },
    {
     "name": "stderr",
     "output_type": "stream",
     "text": [
      "\r",
      "[Stage 45:==============================================>       (174 + 4) / 200]\r",
      "\r",
      "                                                                                \r"
     ]
    }
   ],
   "source": [
    "df_most_frequent.show()"
   ]
  },
  {
   "cell_type": "code",
   "execution_count": 89,
   "id": "d44e2b86",
   "metadata": {},
   "outputs": [],
   "source": [
    "df_zones = spark.read \\\n",
    ".option(\"header\",\"true\") \\\n",
    ".csv(\"../taxi+_zone_lookup.csv\")"
   ]
  },
  {
   "cell_type": "code",
   "execution_count": 90,
   "id": "9860b5b5",
   "metadata": {},
   "outputs": [],
   "source": [
    "df_zones.write.parquet(\"../data/pq_zones\",mode='overwrite')"
   ]
  },
  {
   "cell_type": "code",
   "execution_count": 92,
   "id": "c15431bb",
   "metadata": {},
   "outputs": [],
   "source": [
    "df_zones = spark.read.parquet(\"../data/pq_zones\")"
   ]
  },
  {
   "cell_type": "code",
   "execution_count": 93,
   "id": "17b8c45c",
   "metadata": {},
   "outputs": [],
   "source": [
    "df_zones.registerTempTable(\"ms_zones\")"
   ]
  },
  {
   "cell_type": "code",
   "execution_count": 111,
   "id": "8fa83475",
   "metadata": {},
   "outputs": [],
   "source": [
    "df_zone_most = spark.sql(\"\"\"\n",
    "SELECT CONCAT(pz.Zone,'/',dz.Zone) AS pickuplocation_and_droplocation,COUNT(CONCAT(pz.Zone,'/',dz.Zone)) AS total\n",
    "FROM hvfhw_2021_02\n",
    "INNER JOIN ms_zones AS pz on hvfhw_2021_02.PULocationID = pz.LocationID\n",
    "INNER JOIN ms_zones AS dz on hvfhw_2021_02.DOLocationID = dz.LocationID\n",
    "GROUP BY pz.Zone,dz.Zone\n",
    "ORDER BY COUNT(CONCAT(pz.Zone,'/',dz.Zone)) DESC\n",
    "\"\"\")"
   ]
  },
  {
   "cell_type": "code",
   "execution_count": 115,
   "id": "2ddacf63",
   "metadata": {},
   "outputs": [
    {
     "name": "stderr",
     "output_type": "stream",
     "text": [
      "                                                                                \r"
     ]
    }
   ],
   "source": [
    "df_zone_most.write.parquet(\"../data/most_zone/\",mode=\"overwrite\")"
   ]
  },
  {
   "cell_type": "code",
   "execution_count": 116,
   "id": "1df06f4c",
   "metadata": {},
   "outputs": [],
   "source": [
    "df_zone_most = spark.read.parquet(\"../data/most_zone/\")"
   ]
  },
  {
   "cell_type": "code",
   "execution_count": 119,
   "id": "a3fa370e",
   "metadata": {},
   "outputs": [
    {
     "data": {
      "text/plain": [
       "[Row(pickuplocation_and_droplocation='Saint Michaels Cemetery/Woodside/Fordham South', total=1),\n",
       " Row(pickuplocation_and_droplocation='Lincoln Square East/Laurelton', total=1),\n",
       " Row(pickuplocation_and_droplocation='Manhattan Beach/Claremont/Bathgate', total=1),\n",
       " Row(pickuplocation_and_droplocation='Greenpoint/Country Club', total=1),\n",
       " Row(pickuplocation_and_droplocation='Grymes Hill/Clifton/Meatpacking/West Village West', total=1),\n",
       " Row(pickuplocation_and_droplocation='Willets Point/Bedford', total=1),\n",
       " Row(pickuplocation_and_droplocation='Inwood/Jamaica Estates', total=1),\n",
       " Row(pickuplocation_and_droplocation='Bensonhurst West/Westchester Village/Unionport', total=1),\n",
       " Row(pickuplocation_and_droplocation='Kew Gardens/Willets Point', total=1),\n",
       " Row(pickuplocation_and_droplocation='Flushing Meadows-Corona Park/Van Cortlandt Park', total=1)]"
      ]
     },
     "execution_count": 119,
     "metadata": {},
     "output_type": "execute_result"
    }
   ],
   "source": [
    "df_zone_most.head(10)"
   ]
  }
 ],
 "metadata": {
  "kernelspec": {
   "display_name": "Python 3 (ipykernel)",
   "language": "python",
   "name": "python3"
  },
  "language_info": {
   "codemirror_mode": {
    "name": "ipython",
    "version": 3
   },
   "file_extension": ".py",
   "mimetype": "text/x-python",
   "name": "python",
   "nbconvert_exporter": "python",
   "pygments_lexer": "ipython3",
   "version": "3.9.6"
  }
 },
 "nbformat": 4,
 "nbformat_minor": 5
}
